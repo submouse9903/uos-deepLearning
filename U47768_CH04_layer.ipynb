{
  "nbformat": 4,
  "nbformat_minor": 0,
  "metadata": {
    "colab": {
      "provenance": [],
      "include_colab_link": true
    },
    "kernelspec": {
      "name": "python3",
      "display_name": "Python 3"
    },
    "language_info": {
      "name": "python"
    }
  },
  "cells": [
    {
      "cell_type": "markdown",
      "metadata": {
        "id": "view-in-github",
        "colab_type": "text"
      },
      "source": [
        "<a href=\"https://colab.research.google.com/github/submouse9903/uos-deepLearning/blob/main/U47768_CH04_layer.ipynb\" target=\"_parent\"><img src=\"https://colab.research.google.com/assets/colab-badge.svg\" alt=\"Open In Colab\"/></a>"
      ]
    },
    {
      "cell_type": "code",
      "execution_count": null,
      "metadata": {
        "id": "Y1LCZylref7F"
      },
      "outputs": [],
      "source": [
        "import torch\n",
        "import torch.nn as nn"
      ]
    },
    {
      "cell_type": "code",
      "source": [
        "torch.manual_seed(1)\n",
        "m = nn.Linear(3, 5)\n",
        "input = torch.randn(4, 3)\n",
        "output = m(input)\n",
        "print(output.size())"
      ],
      "metadata": {
        "colab": {
          "base_uri": "https://localhost:8080/"
        },
        "id": "vGufU1pte0-S",
        "outputId": "3b8bd0d8-8040-43ac-b3b3-920f4c06404c"
      },
      "execution_count": null,
      "outputs": [
        {
          "output_type": "stream",
          "name": "stdout",
          "text": [
            "torch.Size([4, 5])\n"
          ]
        }
      ]
    },
    {
      "cell_type": "code",
      "source": [
        "output"
      ],
      "metadata": {
        "colab": {
          "base_uri": "https://localhost:8080/"
        },
        "id": "3HaWCNAMe_xI",
        "outputId": "9c8191a4-4f31-40d3-d50f-9508ffc93b9a"
      },
      "execution_count": null,
      "outputs": [
        {
          "output_type": "execute_result",
          "data": {
            "text/plain": [
              "tensor([[-0.2807, -0.1942,  0.0709,  0.5529,  0.0128],\n",
              "        [-0.4768, -0.3150,  0.2579,  0.6482, -0.1302],\n",
              "        [ 0.1289, -0.2974, -0.2285,  0.4079,  0.2720],\n",
              "        [-0.7977, -2.5335,  0.9189,  1.0357, -0.5763]],\n",
              "       grad_fn=<AddmmBackward0>)"
            ]
          },
          "metadata": {},
          "execution_count": 3
        }
      ]
    },
    {
      "cell_type": "code",
      "source": [
        "m.weight"
      ],
      "metadata": {
        "colab": {
          "base_uri": "https://localhost:8080/"
        },
        "id": "b1Gqe7KwfAN5",
        "outputId": "0f0bc0d8-f2d1-4287-da68-fad56733baea"
      },
      "execution_count": null,
      "outputs": [
        {
          "output_type": "execute_result",
          "data": {
            "text/plain": [
              "Parameter containing:\n",
              "tensor([[ 0.2975, -0.2548, -0.1119],\n",
              "        [ 0.2710, -0.5435,  0.3462],\n",
              "        [-0.1188,  0.2937,  0.0803],\n",
              "        [-0.0707,  0.1601,  0.0285],\n",
              "        [ 0.2109, -0.2250, -0.0421]], requires_grad=True)"
            ]
          },
          "metadata": {},
          "execution_count": 4
        }
      ]
    },
    {
      "cell_type": "code",
      "source": [
        "m.bias"
      ],
      "metadata": {
        "colab": {
          "base_uri": "https://localhost:8080/"
        },
        "id": "fcYp9RHPfrI8",
        "outputId": "30bc5ce3-5cee-44f2-a29d-40e867eb3d13"
      },
      "execution_count": null,
      "outputs": [
        {
          "output_type": "execute_result",
          "data": {
            "text/plain": [
              "Parameter containing:\n",
              "tensor([-0.0520,  0.0837, -0.0023,  0.5047,  0.1797], requires_grad=True)"
            ]
          },
          "metadata": {},
          "execution_count": 5
        }
      ]
    },
    {
      "cell_type": "code",
      "source": [
        "m.bias + m.weight@input[0]"
      ],
      "metadata": {
        "colab": {
          "base_uri": "https://localhost:8080/"
        },
        "id": "epocBuTJgXmm",
        "outputId": "d24b69bc-a23e-4558-979c-fd3e4e1b61d9"
      },
      "execution_count": null,
      "outputs": [
        {
          "output_type": "execute_result",
          "data": {
            "text/plain": [
              "tensor([-0.2807, -0.1942,  0.0709,  0.5529,  0.0128], grad_fn=<AddBackward0>)"
            ]
          },
          "metadata": {},
          "execution_count": 6
        }
      ]
    },
    {
      "cell_type": "code",
      "source": [
        "p = 3\n",
        "h1_dim = 5\n",
        "out_dim =1"
      ],
      "metadata": {
        "id": "85omdggMsWFw"
      },
      "execution_count": null,
      "outputs": []
    },
    {
      "cell_type": "code",
      "source": [
        "model = nn.Sequential(nn.Linear(p, h1_dim),\n",
        "                      nn.ReLU(),\n",
        "                      nn.Linear(h1_dim, out_dim))\n",
        "print(model)"
      ],
      "metadata": {
        "colab": {
          "base_uri": "https://localhost:8080/"
        },
        "id": "GrU8fRAdgiG8",
        "outputId": "81fa1199-3c4c-48a0-94ec-cfa54d9fbc9e"
      },
      "execution_count": null,
      "outputs": [
        {
          "output_type": "stream",
          "name": "stdout",
          "text": [
            "Sequential(\n",
            "  (0): Linear(in_features=3, out_features=5, bias=True)\n",
            "  (1): ReLU()\n",
            "  (2): Linear(in_features=5, out_features=1, bias=True)\n",
            ")\n"
          ]
        }
      ]
    },
    {
      "cell_type": "code",
      "source": [
        "n = 10\n",
        "x = torch.rand(n, p)\n",
        "model(x)"
      ],
      "metadata": {
        "colab": {
          "base_uri": "https://localhost:8080/"
        },
        "id": "dB0K3T7Dszqe",
        "outputId": "30516ac1-f846-47a1-a8fe-5aaa65b4625f"
      },
      "execution_count": null,
      "outputs": [
        {
          "output_type": "execute_result",
          "data": {
            "text/plain": [
              "tensor([[-0.4708],\n",
              "        [-0.4187],\n",
              "        [-0.3914],\n",
              "        [-0.4542],\n",
              "        [-0.4710],\n",
              "        [-0.5403],\n",
              "        [-0.4165],\n",
              "        [-0.4577],\n",
              "        [-0.4878],\n",
              "        [-0.4516]], grad_fn=<AddmmBackward0>)"
            ]
          },
          "metadata": {},
          "execution_count": 9
        }
      ]
    },
    {
      "cell_type": "code",
      "source": [
        "for name, param in model.named_parameters():\n",
        "  print(name)\n",
        "  print(param)"
      ],
      "metadata": {
        "colab": {
          "base_uri": "https://localhost:8080/"
        },
        "id": "lhmZnIRDtIe1",
        "outputId": "2b5725e5-5d54-4b94-c75c-ebd21732f897"
      },
      "execution_count": null,
      "outputs": [
        {
          "output_type": "stream",
          "name": "stdout",
          "text": [
            "0.weight\n",
            "Parameter containing:\n",
            "tensor([[-0.3042,  0.2968, -0.3065],\n",
            "        [ 0.1698, -0.1667, -0.0633],\n",
            "        [-0.5551, -0.2753,  0.3133],\n",
            "        [-0.1403,  0.5751,  0.4628],\n",
            "        [-0.0270, -0.3854,  0.3516]], requires_grad=True)\n",
            "0.bias\n",
            "Parameter containing:\n",
            "tensor([ 0.1792, -0.3732,  0.3750,  0.3505,  0.5120], requires_grad=True)\n",
            "2.weight\n",
            "Parameter containing:\n",
            "tensor([[-0.2507, -0.0736, -0.0087,  0.0653, -0.3394]], requires_grad=True)\n",
            "2.bias\n",
            "Parameter containing:\n",
            "tensor([-0.3174], requires_grad=True)\n"
          ]
        }
      ]
    },
    {
      "cell_type": "code",
      "source": [
        "n = 100\n",
        "p=50\n",
        "h_dim = 20\n",
        "out_dim = 10\n",
        "torch.manual_seed(1)\n",
        "x = torch.rand(n,p)\n",
        "z = nn.Linear(p, h_dim)(x)\n",
        "z = nn.ReLU()(z)\n",
        "z = nn.Linear(h_dim, out_dim)(z)\n",
        "yhat = nn.Softmax()(z)"
      ],
      "metadata": {
        "colab": {
          "base_uri": "https://localhost:8080/"
        },
        "id": "1sCIb9fSn_f8",
        "outputId": "11361ea9-fbf2-4c15-8f97-f843f443edbc"
      },
      "execution_count": null,
      "outputs": [
        {
          "output_type": "stream",
          "name": "stderr",
          "text": [
            "<ipython-input-23-51847077c451>:10: UserWarning: Implicit dimension choice for softmax has been deprecated. Change the call to include dim=X as an argument.\n",
            "  yhat = nn.Softmax()(z)\n"
          ]
        }
      ]
    },
    {
      "cell_type": "code",
      "source": [
        "yhat[:5,:]"
      ],
      "metadata": {
        "colab": {
          "base_uri": "https://localhost:8080/"
        },
        "id": "vUUb5I55oFgM",
        "outputId": "0d0c525d-4495-4fd0-b437-3d595c8c8fbf"
      },
      "execution_count": null,
      "outputs": [
        {
          "output_type": "execute_result",
          "data": {
            "text/plain": [
              "tensor([[0.1119, 0.0823, 0.1512, 0.1347, 0.0855, 0.0849, 0.1022, 0.0798, 0.0781,\n",
              "         0.0895],\n",
              "        [0.1110, 0.0696, 0.1464, 0.1362, 0.0884, 0.0806, 0.1026, 0.0848, 0.0910,\n",
              "         0.0895],\n",
              "        [0.1132, 0.0756, 0.1525, 0.1240, 0.0946, 0.0750, 0.1195, 0.0792, 0.0806,\n",
              "         0.0858],\n",
              "        [0.1026, 0.0782, 0.1432, 0.1404, 0.0858, 0.0850, 0.1109, 0.0802, 0.0881,\n",
              "         0.0855],\n",
              "        [0.0937, 0.0931, 0.1484, 0.1427, 0.0905, 0.0793, 0.1104, 0.0779, 0.0727,\n",
              "         0.0915]], grad_fn=<SliceBackward0>)"
            ]
          },
          "metadata": {},
          "execution_count": 24
        }
      ]
    },
    {
      "cell_type": "code",
      "source": [
        "# K-class classfication model\n",
        "p=50\n",
        "h1_dim = 20\n",
        "h2_dim = 20\n",
        "h3_dim = 20\n",
        "out_dim = 10\n",
        "\n",
        "\n",
        "model = nn.Sequential(nn.Linear(p, h1_dim),\n",
        "                      nn.ReLU(),\n",
        "                      nn.Linear(h1_dim, h2_dim),\n",
        "                      nn.ReLU(),\n",
        "                      nn.Linear(h2_dim, h3_dim),\n",
        "                      nn.ReLU(),\n",
        "                      nn.Linear(h3_dim, out_dim),\n",
        "                      nn.Softmax(),\n",
        "                      )\n",
        "print(model)"
      ],
      "metadata": {
        "colab": {
          "base_uri": "https://localhost:8080/"
        },
        "id": "_V5vlmQwtK15",
        "outputId": "fd13cdcc-6408-432c-9f0f-6f2dfef1f141"
      },
      "execution_count": null,
      "outputs": [
        {
          "output_type": "stream",
          "name": "stdout",
          "text": [
            "Sequential(\n",
            "  (0): Linear(in_features=50, out_features=20, bias=True)\n",
            "  (1): ReLU()\n",
            "  (2): Linear(in_features=20, out_features=20, bias=True)\n",
            "  (3): ReLU()\n",
            "  (4): Linear(in_features=20, out_features=20, bias=True)\n",
            "  (5): ReLU()\n",
            "  (6): Linear(in_features=20, out_features=10, bias=True)\n",
            "  (7): Softmax(dim=None)\n",
            ")\n"
          ]
        }
      ]
    },
    {
      "cell_type": "code",
      "source": [
        "n = 100\n",
        "x = torch.rand(n,p)\n",
        "model(x)[:5,:]"
      ],
      "metadata": {
        "colab": {
          "base_uri": "https://localhost:8080/"
        },
        "id": "ljjbR5R2u2hb",
        "outputId": "78c35075-11ef-4638-e7d5-6d639e5d5876"
      },
      "execution_count": null,
      "outputs": [
        {
          "output_type": "stream",
          "name": "stderr",
          "text": [
            "/usr/local/lib/python3.9/dist-packages/torch/nn/modules/container.py:217: UserWarning: Implicit dimension choice for softmax has been deprecated. Change the call to include dim=X as an argument.\n",
            "  input = module(input)\n"
          ]
        },
        {
          "output_type": "execute_result",
          "data": {
            "text/plain": [
              "tensor([[0.0936, 0.1000, 0.0827, 0.1010, 0.0977, 0.1265, 0.0990, 0.1284, 0.0837,\n",
              "         0.0875],\n",
              "        [0.0927, 0.0995, 0.0860, 0.0967, 0.0947, 0.1252, 0.1025, 0.1321, 0.0853,\n",
              "         0.0851],\n",
              "        [0.0932, 0.0997, 0.0858, 0.0960, 0.0948, 0.1236, 0.1028, 0.1332, 0.0852,\n",
              "         0.0855],\n",
              "        [0.0925, 0.1005, 0.0840, 0.0992, 0.0981, 0.1259, 0.1006, 0.1299, 0.0836,\n",
              "         0.0857],\n",
              "        [0.0942, 0.1003, 0.0842, 0.0987, 0.0961, 0.1250, 0.1001, 0.1298, 0.0844,\n",
              "         0.0872]], grad_fn=<SliceBackward0>)"
            ]
          },
          "metadata": {},
          "execution_count": 12
        }
      ]
    },
    {
      "cell_type": "code",
      "source": [
        "yhat = model(x)\n",
        "yhat.shape"
      ],
      "metadata": {
        "colab": {
          "base_uri": "https://localhost:8080/"
        },
        "id": "Ab-K0CTexH2v",
        "outputId": "d7eaf3cb-8aa8-4d82-f5fe-002f2ba11039"
      },
      "execution_count": null,
      "outputs": [
        {
          "output_type": "execute_result",
          "data": {
            "text/plain": [
              "torch.Size([100, 10])"
            ]
          },
          "metadata": {},
          "execution_count": 13
        }
      ]
    },
    {
      "cell_type": "code",
      "source": [
        "torch.manual_seed(1)\n",
        "torch.randint(0,out_dim,(n,))"
      ],
      "metadata": {
        "colab": {
          "base_uri": "https://localhost:8080/"
        },
        "id": "C9rBzea_vG0i",
        "outputId": "eb7a2cfe-dc1f-47c6-a34f-b7cf5acbdec3"
      },
      "execution_count": null,
      "outputs": [
        {
          "output_type": "execute_result",
          "data": {
            "text/plain": [
              "tensor([5, 9, 4, 8, 3, 3, 1, 1, 9, 2, 8, 9, 6, 3, 3, 0, 2, 1, 2, 6, 0, 3, 6, 4,\n",
              "        3, 6, 4, 2, 9, 4, 8, 6, 7, 3, 7, 3, 3, 6, 2, 0, 5, 9, 5, 3, 3, 5, 8, 9,\n",
              "        1, 4, 4, 5, 8, 0, 1, 3, 1, 4, 7, 8, 6, 9, 9, 8, 3, 3, 1, 7, 2, 8, 9, 3,\n",
              "        0, 2, 2, 8, 5, 9, 9, 0, 1, 2, 2, 5, 5, 0, 9, 1, 6, 9, 0, 8, 7, 7, 3, 2,\n",
              "        7, 7, 2, 7])"
            ]
          },
          "metadata": {},
          "execution_count": 14
        }
      ]
    },
    {
      "cell_type": "code",
      "source": [
        "torch.manual_seed(1)\n",
        "y = torch.randint(0,out_dim,(n,))\n",
        "nn.functional.one_hot(y,10)[:5,:]"
      ],
      "metadata": {
        "colab": {
          "base_uri": "https://localhost:8080/"
        },
        "id": "ZE7aQocHvukN",
        "outputId": "a6f3ce4f-1742-4e9c-bc3b-189748b7666c"
      },
      "execution_count": null,
      "outputs": [
        {
          "output_type": "execute_result",
          "data": {
            "text/plain": [
              "tensor([[0, 0, 0, 0, 0, 1, 0, 0, 0, 0],\n",
              "        [0, 0, 0, 0, 0, 0, 0, 0, 0, 1],\n",
              "        [0, 0, 0, 0, 1, 0, 0, 0, 0, 0],\n",
              "        [0, 0, 0, 0, 0, 0, 0, 0, 1, 0],\n",
              "        [0, 0, 0, 1, 0, 0, 0, 0, 0, 0]])"
            ]
          },
          "metadata": {},
          "execution_count": 15
        }
      ]
    },
    {
      "cell_type": "code",
      "source": [
        "y = nn.functional.one_hot(y,out_dim)\n",
        "y.shape"
      ],
      "metadata": {
        "colab": {
          "base_uri": "https://localhost:8080/"
        },
        "id": "2lQc9XKZwz3O",
        "outputId": "e49ecd89-8e4c-45e2-86df-8b44110150f4"
      },
      "execution_count": null,
      "outputs": [
        {
          "output_type": "execute_result",
          "data": {
            "text/plain": [
              "torch.Size([100, 10])"
            ]
          },
          "metadata": {},
          "execution_count": 16
        }
      ]
    },
    {
      "cell_type": "code",
      "source": [
        "yhat[0,:]"
      ],
      "metadata": {
        "colab": {
          "base_uri": "https://localhost:8080/"
        },
        "id": "gGevac9Gw86L",
        "outputId": "05d74689-d91d-438c-9522-e271d930ec01"
      },
      "execution_count": null,
      "outputs": [
        {
          "output_type": "execute_result",
          "data": {
            "text/plain": [
              "tensor([0.0936, 0.1000, 0.0827, 0.1010, 0.0977, 0.1265, 0.0990, 0.1284, 0.0837,\n",
              "        0.0875], grad_fn=<SliceBackward0>)"
            ]
          },
          "metadata": {},
          "execution_count": 17
        }
      ]
    },
    {
      "cell_type": "code",
      "source": [
        "y[0,:]"
      ],
      "metadata": {
        "colab": {
          "base_uri": "https://localhost:8080/"
        },
        "id": "K_ZF-JCrxRAm",
        "outputId": "e7da52dc-2d55-4a70-8fcf-90266214068f"
      },
      "execution_count": null,
      "outputs": [
        {
          "output_type": "execute_result",
          "data": {
            "text/plain": [
              "tensor([0, 0, 0, 0, 0, 1, 0, 0, 0, 0])"
            ]
          },
          "metadata": {},
          "execution_count": 18
        }
      ]
    },
    {
      "cell_type": "code",
      "source": [
        "y[0,:]*torch.log(yhat[0,:])"
      ],
      "metadata": {
        "colab": {
          "base_uri": "https://localhost:8080/"
        },
        "id": "0L-rzNlaxSw-",
        "outputId": "493d8490-95d3-4a00-8a5f-ec31670b0372"
      },
      "execution_count": null,
      "outputs": [
        {
          "output_type": "execute_result",
          "data": {
            "text/plain": [
              "tensor([-0.0000, -0.0000, -0.0000, -0.0000, -0.0000, -2.0679, -0.0000, -0.0000,\n",
              "        -0.0000, -0.0000], grad_fn=<MulBackward0>)"
            ]
          },
          "metadata": {},
          "execution_count": 19
        }
      ]
    },
    {
      "cell_type": "code",
      "source": [
        "torch.sum(-y[0,:]*torch.log(yhat[0,:]))"
      ],
      "metadata": {
        "colab": {
          "base_uri": "https://localhost:8080/"
        },
        "id": "xnSApZcmxY5H",
        "outputId": "13a83215-c9b1-48a0-b108-1900e780263f"
      },
      "execution_count": null,
      "outputs": [
        {
          "output_type": "execute_result",
          "data": {
            "text/plain": [
              "tensor(2.0679, grad_fn=<SumBackward0>)"
            ]
          },
          "metadata": {},
          "execution_count": 20
        }
      ]
    },
    {
      "cell_type": "code",
      "source": [
        "torch.manual_seed(1)\n",
        "y = torch.randint(0,out_dim,(n,))\n",
        "cross_entropy_loss = nn.CrossEntropyLoss()\n",
        "loss_value = cross_entropy_loss(yhat, y)\n",
        "print(loss_value)"
      ],
      "metadata": {
        "colab": {
          "base_uri": "https://localhost:8080/"
        },
        "id": "xkEf2m5OxuRH",
        "outputId": "16f89441-c084-423e-db7e-97847fc5d8ba"
      },
      "execution_count": null,
      "outputs": [
        {
          "output_type": "stream",
          "name": "stdout",
          "text": [
            "tensor(2.3040, grad_fn=<NllLossBackward0>)\n"
          ]
        }
      ]
    }
  ]
}