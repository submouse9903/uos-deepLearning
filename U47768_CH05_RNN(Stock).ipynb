{
  "cells": [
    {
      "cell_type": "markdown",
      "metadata": {
        "id": "view-in-github",
        "colab_type": "text"
      },
      "source": [
        "<a href=\"https://colab.research.google.com/github/submouse9903/uos-deepLearning/blob/main/U47768_CH05_RNN(Stock).ipynb\" target=\"_parent\"><img src=\"https://colab.research.google.com/assets/colab-badge.svg\" alt=\"Open In Colab\"/></a>"
      ]
    },
    {
      "cell_type": "code",
      "execution_count": null,
      "metadata": {
        "id": "DNsFtdYqgr2o"
      },
      "outputs": [],
      "source": [
        "import torch\n",
        "import torch.nn as nn\n",
        "import numpy as np\n",
        "import pandas as pd\n",
        "from sklearn.preprocessing import MinMaxScaler"
      ]
    },
    {
      "cell_type": "code",
      "execution_count": null,
      "metadata": {
        "id": "HFsapppekmIb"
      },
      "outputs": [],
      "source": [
        "device = 'cuda' if torch.cuda.is_available() else 'cpu'\n",
        "torch.manual_seed(1)\n",
        "if device == 'cuda':\n",
        "    torch.cuda.manual_seed_all(1)"
      ]
    },
    {
      "cell_type": "code",
      "execution_count": null,
      "metadata": {
        "id": "bCsnX3aMgy9h"
      },
      "outputs": [],
      "source": [
        "# Load data\n",
        "df = pd.read_csv('http://ranking.uos.ac.kr/class/RB/stock_data.csv')"
      ]
    },
    {
      "cell_type": "code",
      "execution_count": null,
      "metadata": {
        "colab": {
          "base_uri": "https://localhost:8080/",
          "height": 206
        },
        "id": "xsjPoqEkijdm",
        "outputId": "900f4f96-985d-4d6f-cbe5-69d0d91c22b9"
      },
      "outputs": [
        {
          "output_type": "execute_result",
          "data": {
            "text/plain": [
              "         Open        High         Low   Volume       Close\n",
              "0  828.659973  833.450012  828.349976  1247700  831.659973\n",
              "1  823.020020  828.070007  821.655029  1597800  828.070007\n",
              "2  819.929993  824.400024  818.979980  1281700  824.159973\n",
              "3  819.359985  823.000000  818.469971  1304000  818.979980\n",
              "4  819.000000  823.000000  816.000000  1053600  820.450012"
            ],
            "text/html": [
              "\n",
              "  <div id=\"df-d4946a5a-9a81-42b1-891b-fc42a7999dbd\">\n",
              "    <div class=\"colab-df-container\">\n",
              "      <div>\n",
              "<style scoped>\n",
              "    .dataframe tbody tr th:only-of-type {\n",
              "        vertical-align: middle;\n",
              "    }\n",
              "\n",
              "    .dataframe tbody tr th {\n",
              "        vertical-align: top;\n",
              "    }\n",
              "\n",
              "    .dataframe thead th {\n",
              "        text-align: right;\n",
              "    }\n",
              "</style>\n",
              "<table border=\"1\" class=\"dataframe\">\n",
              "  <thead>\n",
              "    <tr style=\"text-align: right;\">\n",
              "      <th></th>\n",
              "      <th>Open</th>\n",
              "      <th>High</th>\n",
              "      <th>Low</th>\n",
              "      <th>Volume</th>\n",
              "      <th>Close</th>\n",
              "    </tr>\n",
              "  </thead>\n",
              "  <tbody>\n",
              "    <tr>\n",
              "      <th>0</th>\n",
              "      <td>828.659973</td>\n",
              "      <td>833.450012</td>\n",
              "      <td>828.349976</td>\n",
              "      <td>1247700</td>\n",
              "      <td>831.659973</td>\n",
              "    </tr>\n",
              "    <tr>\n",
              "      <th>1</th>\n",
              "      <td>823.020020</td>\n",
              "      <td>828.070007</td>\n",
              "      <td>821.655029</td>\n",
              "      <td>1597800</td>\n",
              "      <td>828.070007</td>\n",
              "    </tr>\n",
              "    <tr>\n",
              "      <th>2</th>\n",
              "      <td>819.929993</td>\n",
              "      <td>824.400024</td>\n",
              "      <td>818.979980</td>\n",
              "      <td>1281700</td>\n",
              "      <td>824.159973</td>\n",
              "    </tr>\n",
              "    <tr>\n",
              "      <th>3</th>\n",
              "      <td>819.359985</td>\n",
              "      <td>823.000000</td>\n",
              "      <td>818.469971</td>\n",
              "      <td>1304000</td>\n",
              "      <td>818.979980</td>\n",
              "    </tr>\n",
              "    <tr>\n",
              "      <th>4</th>\n",
              "      <td>819.000000</td>\n",
              "      <td>823.000000</td>\n",
              "      <td>816.000000</td>\n",
              "      <td>1053600</td>\n",
              "      <td>820.450012</td>\n",
              "    </tr>\n",
              "  </tbody>\n",
              "</table>\n",
              "</div>\n",
              "      <button class=\"colab-df-convert\" onclick=\"convertToInteractive('df-d4946a5a-9a81-42b1-891b-fc42a7999dbd')\"\n",
              "              title=\"Convert this dataframe to an interactive table.\"\n",
              "              style=\"display:none;\">\n",
              "        \n",
              "  <svg xmlns=\"http://www.w3.org/2000/svg\" height=\"24px\"viewBox=\"0 0 24 24\"\n",
              "       width=\"24px\">\n",
              "    <path d=\"M0 0h24v24H0V0z\" fill=\"none\"/>\n",
              "    <path d=\"M18.56 5.44l.94 2.06.94-2.06 2.06-.94-2.06-.94-.94-2.06-.94 2.06-2.06.94zm-11 1L8.5 8.5l.94-2.06 2.06-.94-2.06-.94L8.5 2.5l-.94 2.06-2.06.94zm10 10l.94 2.06.94-2.06 2.06-.94-2.06-.94-.94-2.06-.94 2.06-2.06.94z\"/><path d=\"M17.41 7.96l-1.37-1.37c-.4-.4-.92-.59-1.43-.59-.52 0-1.04.2-1.43.59L10.3 9.45l-7.72 7.72c-.78.78-.78 2.05 0 2.83L4 21.41c.39.39.9.59 1.41.59.51 0 1.02-.2 1.41-.59l7.78-7.78 2.81-2.81c.8-.78.8-2.07 0-2.86zM5.41 20L4 18.59l7.72-7.72 1.47 1.35L5.41 20z\"/>\n",
              "  </svg>\n",
              "      </button>\n",
              "      \n",
              "  <style>\n",
              "    .colab-df-container {\n",
              "      display:flex;\n",
              "      flex-wrap:wrap;\n",
              "      gap: 12px;\n",
              "    }\n",
              "\n",
              "    .colab-df-convert {\n",
              "      background-color: #E8F0FE;\n",
              "      border: none;\n",
              "      border-radius: 50%;\n",
              "      cursor: pointer;\n",
              "      display: none;\n",
              "      fill: #1967D2;\n",
              "      height: 32px;\n",
              "      padding: 0 0 0 0;\n",
              "      width: 32px;\n",
              "    }\n",
              "\n",
              "    .colab-df-convert:hover {\n",
              "      background-color: #E2EBFA;\n",
              "      box-shadow: 0px 1px 2px rgba(60, 64, 67, 0.3), 0px 1px 3px 1px rgba(60, 64, 67, 0.15);\n",
              "      fill: #174EA6;\n",
              "    }\n",
              "\n",
              "    [theme=dark] .colab-df-convert {\n",
              "      background-color: #3B4455;\n",
              "      fill: #D2E3FC;\n",
              "    }\n",
              "\n",
              "    [theme=dark] .colab-df-convert:hover {\n",
              "      background-color: #434B5C;\n",
              "      box-shadow: 0px 1px 3px 1px rgba(0, 0, 0, 0.15);\n",
              "      filter: drop-shadow(0px 1px 2px rgba(0, 0, 0, 0.3));\n",
              "      fill: #FFFFFF;\n",
              "    }\n",
              "  </style>\n",
              "\n",
              "      <script>\n",
              "        const buttonEl =\n",
              "          document.querySelector('#df-d4946a5a-9a81-42b1-891b-fc42a7999dbd button.colab-df-convert');\n",
              "        buttonEl.style.display =\n",
              "          google.colab.kernel.accessAllowed ? 'block' : 'none';\n",
              "\n",
              "        async function convertToInteractive(key) {\n",
              "          const element = document.querySelector('#df-d4946a5a-9a81-42b1-891b-fc42a7999dbd');\n",
              "          const dataTable =\n",
              "            await google.colab.kernel.invokeFunction('convertToInteractive',\n",
              "                                                     [key], {});\n",
              "          if (!dataTable) return;\n",
              "\n",
              "          const docLinkHtml = 'Like what you see? Visit the ' +\n",
              "            '<a target=\"_blank\" href=https://colab.research.google.com/notebooks/data_table.ipynb>data table notebook</a>'\n",
              "            + ' to learn more about interactive tables.';\n",
              "          element.innerHTML = '';\n",
              "          dataTable['output_type'] = 'display_data';\n",
              "          await google.colab.output.renderOutput(dataTable, element);\n",
              "          const docLink = document.createElement('div');\n",
              "          docLink.innerHTML = docLinkHtml;\n",
              "          element.appendChild(docLink);\n",
              "        }\n",
              "      </script>\n",
              "    </div>\n",
              "  </div>\n",
              "  "
            ]
          },
          "metadata": {},
          "execution_count": 4
        }
      ],
      "source": [
        "df.head()"
      ]
    },
    {
      "cell_type": "code",
      "execution_count": null,
      "metadata": {
        "id": "lDln0vxqjI9X"
      },
      "outputs": [],
      "source": [
        "x_0 = np.array(df['Close'][0:-1])\n",
        "x_1 = np.array(df['Close'][1:])\n",
        "x = np.log(1-(x_1-x_0)/x_0)"
      ]
    },
    {
      "cell_type": "code",
      "execution_count": null,
      "metadata": {
        "id": "7YbM7CAXg4gh"
      },
      "outputs": [],
      "source": [
        "# Define hyperparameters\n",
        "seq_len = 6\n",
        "hidden_size = 5\n",
        "num_layers = 1\n",
        "learning_rate = 0.001\n",
        "num_epochs = 100"
      ]
    },
    {
      "cell_type": "code",
      "execution_count": null,
      "metadata": {
        "id": "_aQtZfFEkaUJ"
      },
      "outputs": [],
      "source": [
        "rnn = nn.RNN(input_size = 1, hidden_size = 5, num_layers = 1, batch_first = True)"
      ]
    },
    {
      "cell_type": "code",
      "execution_count": null,
      "metadata": {
        "colab": {
          "base_uri": "https://localhost:8080/"
        },
        "id": "sBOnsnpx_csQ",
        "outputId": "2bd8d676-0aaa-4ca1-e9ed-54731c7910ff"
      },
      "outputs": [
        {
          "output_type": "execute_result",
          "data": {
            "text/plain": [
              "RNN(1, 5, batch_first=True)"
            ]
          },
          "metadata": {},
          "execution_count": 10
        }
      ],
      "source": [
        "rnn"
      ]
    },
    {
      "cell_type": "markdown",
      "metadata": {
        "id": "ncHhmiOQrWBC"
      },
      "source": [
        "- Batch_first = False 인 경우에 (seq, batch, feature) 로 input data x 를 입력한다. (Default 값으로 지정되어 있다)\n",
        "- Batch_first = True 인 경우에 (batch, seq, feature) 로 input data x 를 입력한다. \n",
        "- 출력값 역시 Batch_first 옵션을 따른다.\n"
      ]
    },
    {
      "cell_type": "code",
      "execution_count": null,
      "metadata": {
        "colab": {
          "base_uri": "https://localhost:8080/"
        },
        "id": "yNFxCSiIohhc",
        "outputId": "f7f7f5f0-6b88-4cd0-dd77-eb235ac8e6a9"
      },
      "outputs": [
        {
          "output_type": "stream",
          "name": "stdout",
          "text": [
            "[ 0.00430734  0.00471075  0.00626551 -0.00179657  0.00147374  0.00677598]\n",
            "[ 0.00471075  0.00626551 -0.00179657  0.00147374  0.00677598  0.00503846]\n",
            "[ 0.00430734  0.00471075  0.00626551 -0.00179657  0.00147374  0.00677598\n",
            "  0.00471075  0.00626551 -0.00179657  0.00147374  0.00677598  0.00503846]\n",
            "torch.Size([2, 6, 1])\n",
            "torch.float32\n"
          ]
        }
      ],
      "source": [
        "# 2개 샘플 만들기\n",
        "print(x[0:6])\n",
        "print(x[1:7])\n",
        "x_data = np.concatenate([x[0:6],x[1:7]], axis = 0)\n",
        "print(x_data)\n",
        "x_data = x_data.reshape(2,6,1)\n",
        "input = torch.tensor(x_data).float()\n",
        "print(input.shape)\n",
        "print(input.dtype)\n"
      ]
    },
    {
      "cell_type": "markdown",
      "metadata": {
        "id": "gOlXT9PrtGeE"
      },
      "source": [
        "h0 만들기\n",
        "- Batch_first = True 와 상관없이 (num_layers*D, batch, hidden_size) 로 h0 를 입력한다.  (만약 bidirectional 이면 D = 2, 아니면 D = 1)\n",
        "- 위의 예제에서는 2개 샘플, 1개 층, 5차원이므로 (1,2,5)를 입력한다.\n",
        "\n",
        "\n"
      ]
    },
    {
      "cell_type": "code",
      "execution_count": null,
      "metadata": {
        "colab": {
          "base_uri": "https://localhost:8080/"
        },
        "id": "yhZsi40AtOS6",
        "outputId": "004b0d3c-f69f-4a00-eab4-7da19902ee65"
      },
      "outputs": [
        {
          "output_type": "execute_result",
          "data": {
            "text/plain": [
              "torch.float32"
            ]
          },
          "metadata": {},
          "execution_count": 12
        }
      ],
      "source": [
        "h0 = torch.randn(1, 2, 5)\n",
        "h0.dtype"
      ]
    },
    {
      "cell_type": "code",
      "execution_count": null,
      "metadata": {
        "colab": {
          "base_uri": "https://localhost:8080/"
        },
        "id": "d1RDaDPUAp0u",
        "outputId": "dd6873fd-3aaf-46a2-d962-1b6987ef8ccf"
      },
      "outputs": [
        {
          "output_type": "stream",
          "name": "stdout",
          "text": [
            "output\n",
            "tensor([[[ 0.0820, -0.6452,  0.6978,  0.0775,  0.2177],\n",
            "         [ 0.5276,  0.3945,  0.3164, -0.4088,  0.3101],\n",
            "         [ 0.4229,  0.0049,  0.4304, -0.5231,  0.3707],\n",
            "         [ 0.4951,  0.1989,  0.3554, -0.5999,  0.4046],\n",
            "         [ 0.4725,  0.1331,  0.3805, -0.6150,  0.4069],\n",
            "         [ 0.4863,  0.1639,  0.3665, -0.6226,  0.4127]],\n",
            "\n",
            "        [[ 0.3000, -0.0588,  0.6551, -0.7776,  0.2603],\n",
            "         [ 0.5378,  0.2909,  0.1779, -0.5969,  0.5176],\n",
            "         [ 0.4386,  0.1031,  0.4482, -0.6515,  0.3629],\n",
            "         [ 0.4959,  0.1859,  0.3229, -0.6127,  0.4411],\n",
            "         [ 0.4734,  0.1440,  0.3921, -0.6315,  0.3980],\n",
            "         [ 0.4870,  0.1622,  0.3581, -0.6215,  0.4205]]],\n",
            "       grad_fn=<TransposeBackward1>)\n",
            "torch.Size([2, 6, 5])\n",
            "hn\n",
            "tensor([[[ 0.4863,  0.1639,  0.3665, -0.6226,  0.4127],\n",
            "         [ 0.4870,  0.1622,  0.3581, -0.6215,  0.4205]]],\n",
            "       grad_fn=<StackBackward0>)\n",
            "torch.Size([1, 2, 5])\n"
          ]
        }
      ],
      "source": [
        "output, hn = rnn(input, h0)\n",
        "print(\"output\")\n",
        "print(output)\n",
        "print(output.shape)\n",
        "print(\"hn\")\n",
        "print(hn)\n",
        "print(hn.shape)"
      ]
    },
    {
      "cell_type": "markdown",
      "metadata": {
        "id": "aReZWrAUD0Tk"
      },
      "source": [
        "Batch_first=True 이므로 output 의 형태는 (batch, seq, feature) 로 이루어진다. \n",
        "- output[0,:,:] 은 첫 번째 input에 대한 rnn feature 행렬인데, 행벡터가 rnn 각 노드에서 hidden feature 에 해당한다.\n",
        "- hn[:,0,:] 은 관측치 두개에 대한 마지막 hidden feature 값인데, hn[:,0,:] 은 첫번째 input에 대한 hidden feature vector에 해당한다."
      ]
    },
    {
      "cell_type": "code",
      "execution_count": null,
      "metadata": {
        "id": "3_cH8BVYkEFn"
      },
      "outputs": [],
      "source": [
        "# Define the RNN model\n",
        "class myRNN(nn.Module):\n",
        "    def __init__(self, input_size, hidden_size, num_layers):\n",
        "        super(myRNN, self).__init__()\n",
        "        self.hidden_size = hidden_size\n",
        "        self.num_layers = num_layers\n",
        "        self.rnn = nn.RNN(input_size, hidden_size, num_layers, batch_first=True)\n",
        "        self.fc = nn.Linear(hidden_size, 1)\n",
        "        \n",
        "    def forward(self, x):\n",
        "        h0 = torch.zeros(self.num_layers, x.size(0), self.hidden_size).to(device)\n",
        "        out, _ = self.rnn(x, h0)\n",
        "        out = out[:, -1, :]\n",
        "        out = self.fc(out)\n",
        "        return out"
      ]
    },
    {
      "cell_type": "code",
      "execution_count": null,
      "metadata": {
        "colab": {
          "base_uri": "https://localhost:8080/"
        },
        "id": "73N0LSAFKUnA",
        "outputId": "3ea503f7-8c4c-4cdf-f287-63165149f5a6"
      },
      "outputs": [
        {
          "output_type": "execute_result",
          "data": {
            "text/plain": [
              "array([ 0.00430734,  0.00471075,  0.00626551, -0.00179657,  0.00147374,\n",
              "        0.00677598,  0.00503846,  0.00145651,  0.00174275,  0.00695242,\n",
              "       -0.00018716,  0.00368627])"
            ]
          },
          "metadata": {},
          "execution_count": 13
        }
      ],
      "source": [
        "x[0:12]"
      ]
    },
    {
      "cell_type": "code",
      "execution_count": null,
      "metadata": {
        "id": "d62DEiT7KEhI"
      },
      "outputs": [],
      "source": [
        "# window size 설정\n",
        "window_size = 6\n",
        "# 입력 시퀀스와 출력 시퀀스 정의\n",
        "def create_inout_sequences(input_data, window_size):\n",
        "    inout_seq = []\n",
        "    L = len(input_data)\n",
        "    for i in range(L - window_size):\n",
        "        train_seq = input_data[i:(i+window_size)].reshape(window_size,1)\n",
        "        train_seq = train_seq.astype(np.float32)\n",
        "        train_label = input_data[(i+window_size):(i+window_size+1)]\n",
        "        train_label = train_label.astype(np.float32)\n",
        "        inout_seq.append((train_seq ,train_label))\n",
        "    return inout_seq"
      ]
    },
    {
      "cell_type": "code",
      "execution_count": null,
      "metadata": {
        "colab": {
          "base_uri": "https://localhost:8080/"
        },
        "id": "-TVWuToSKnE5",
        "outputId": "58096bed-0fe7-46ee-ba25-7cef99804c6b"
      },
      "outputs": [
        {
          "output_type": "stream",
          "name": "stdout",
          "text": [
            "train_data: 725\n"
          ]
        }
      ],
      "source": [
        "# 입력 시퀀스와 출력 시퀀스 생성\n",
        "train_data = create_inout_sequences(x, window_size)\n",
        "print('input:', train_data[0][0].shape)\n",
        "print('output:', train_data[0][1].shape)\n",
        "print('train_data:', len(train_data))"
      ]
    },
    {
      "cell_type": "code",
      "execution_count": null,
      "metadata": {
        "colab": {
          "base_uri": "https://localhost:8080/"
        },
        "id": "8WtsfVWFLIwv",
        "outputId": "ce0a2655-78f4-4924-89bc-434df59f9954"
      },
      "outputs": [
        {
          "output_type": "stream",
          "name": "stdout",
          "text": [
            "Batch 0:\n",
            "torch.Size([10, 6, 1])\n",
            "torch.Size([10, 1])\n"
          ]
        }
      ],
      "source": [
        "# 데이터를 batch 단위로 나누기\n",
        "batch_size = 10\n",
        "train_loader = torch.utils.data.DataLoader(train_data, shuffle=False, batch_size=batch_size)\n",
        "\n",
        "# batch 단위로 데이터 출력\n",
        "for i, (inputs, labels) in enumerate(train_loader):\n",
        "    print(f'Batch {i}:')\n",
        "    #print('Inputs: \\n', inputs)\n",
        "    print(inputs.shape)\n",
        "    #print('Labels: \\n', labels)\n",
        "    print(labels.shape)\n",
        "    break"
      ]
    },
    {
      "cell_type": "code",
      "execution_count": null,
      "metadata": {
        "id": "8aGeWpyQMddG"
      },
      "outputs": [],
      "source": [
        "model = myRNN(1, hidden_size, num_layers).to(device)\n",
        "criterion = nn.MSELoss()\n",
        "optimizer = torch.optim.Adam(model.parameters(), lr=learning_rate)"
      ]
    },
    {
      "cell_type": "code",
      "execution_count": null,
      "metadata": {
        "colab": {
          "base_uri": "https://localhost:8080/"
        },
        "id": "duCVzcTd46Us",
        "outputId": "b6378e81-b279-48f4-ceea-e12674e537d7"
      },
      "outputs": [
        {
          "output_type": "stream",
          "name": "stdout",
          "text": [
            "tensor([[0.0402],\n",
            "        [0.0403],\n",
            "        [0.0401],\n",
            "        [0.0400],\n",
            "        [0.0402],\n",
            "        [0.0400],\n",
            "        [0.0400],\n",
            "        [0.0401],\n",
            "        [0.0398],\n",
            "        [0.0394]], device='cuda:0', grad_fn=<AddmmBackward0>)\n"
          ]
        }
      ],
      "source": [
        "for i, (inputs, labels) in enumerate(train_loader):\n",
        "  input = inputs.to(device)\n",
        "  label = labels.to(device)\n",
        "  output = model(input)\n",
        "  print(output)\n",
        "  #print(input.shape)\n",
        "  break "
      ]
    },
    {
      "cell_type": "code",
      "execution_count": null,
      "metadata": {
        "id": "y26M8rdj69qo",
        "colab": {
          "base_uri": "https://localhost:8080/"
        },
        "outputId": "219b91c1-14dd-401c-d74a-18b9bf1e36f2"
      },
      "outputs": [
        {
          "output_type": "stream",
          "name": "stdout",
          "text": [
            "tensor(0.0018, device='cuda:0', grad_fn=<MseLossBackward0>)\n"
          ]
        }
      ],
      "source": [
        "for i, (inputs, labels) in enumerate(train_loader):\n",
        "  input = inputs.to(device)\n",
        "  label = labels.to(device)\n",
        "  output = model(input)\n",
        "  loss = criterion(output, label)\n",
        "  print(loss)\n",
        "  break "
      ]
    },
    {
      "cell_type": "code",
      "source": [
        "model = myRNN(1, hidden_size, num_layers).to(device)\n",
        "criterion = nn.MSELoss()\n",
        "optimizer = torch.optim.Adam(model.parameters(), lr=learning_rate)\n",
        "optimizer.zero_grad()\n",
        "\n",
        "for i, (inputs, labels) in enumerate(train_loader):\n",
        "  input = inputs.to(device)\n",
        "  label = labels.to(device)\n",
        "  output = model(input)\n",
        "  loss = criterion(output, label)\n",
        "  optimizer.zero_grad()\n",
        "  loss.backward()\n",
        "  optimizer.step()\n",
        "print(loss)"
      ],
      "metadata": {
        "colab": {
          "base_uri": "https://localhost:8080/"
        },
        "id": "XNBDo0Cmy-rp",
        "outputId": "962c3e7e-e415-435a-c7d5-bbdf5e1c17a1"
      },
      "execution_count": null,
      "outputs": [
        {
          "output_type": "stream",
          "name": "stdout",
          "text": [
            "tensor(7.0675e-05, device='cuda:0', grad_fn=<MseLossBackward0>)\n"
          ]
        }
      ]
    },
    {
      "cell_type": "code",
      "source": [
        "model = myRNN(1, hidden_size, num_layers).to(device)\n",
        "criterion = nn.MSELoss()\n",
        "optimizer = torch.optim.Adam(model.parameters(), lr=learning_rate)\n",
        "optimizer.zero_grad()\n",
        "\n",
        "num_epochs = 10\n",
        "for epoch in range(num_epochs):\n",
        "  for i, (inputs, labels) in enumerate(train_loader):\n",
        "    input = inputs.to(device)\n",
        "    label = labels.to(device)\n",
        "    output = model(input)\n",
        "    loss = criterion(output, label)\n",
        "    optimizer.zero_grad()\n",
        "    loss.backward()\n",
        "    optimizer.step()\n",
        "  print(loss)"
      ],
      "metadata": {
        "colab": {
          "base_uri": "https://localhost:8080/"
        },
        "id": "o5MoCJayzPcZ",
        "outputId": "82a81995-a1a8-47f7-b1b4-af0e1d0da7bc"
      },
      "execution_count": null,
      "outputs": [
        {
          "output_type": "stream",
          "name": "stdout",
          "text": [
            "tensor(6.6740e-05, device='cuda:0', grad_fn=<MseLossBackward0>)\n",
            "tensor(7.6011e-05, device='cuda:0', grad_fn=<MseLossBackward0>)\n",
            "tensor(7.9406e-05, device='cuda:0', grad_fn=<MseLossBackward0>)\n",
            "tensor(8.1003e-05, device='cuda:0', grad_fn=<MseLossBackward0>)\n",
            "tensor(8.2363e-05, device='cuda:0', grad_fn=<MseLossBackward0>)\n",
            "tensor(8.3481e-05, device='cuda:0', grad_fn=<MseLossBackward0>)\n",
            "tensor(8.4382e-05, device='cuda:0', grad_fn=<MseLossBackward0>)\n",
            "tensor(8.5101e-05, device='cuda:0', grad_fn=<MseLossBackward0>)\n",
            "tensor(8.5666e-05, device='cuda:0', grad_fn=<MseLossBackward0>)\n",
            "tensor(8.6091e-05, device='cuda:0', grad_fn=<MseLossBackward0>)\n"
          ]
        }
      ]
    },
    {
      "cell_type": "code",
      "source": [],
      "metadata": {
        "id": "z1pvgpA5lbl3"
      },
      "execution_count": null,
      "outputs": []
    }
  ],
  "metadata": {
    "accelerator": "GPU",
    "colab": {
      "provenance": [],
      "include_colab_link": true
    },
    "gpuClass": "standard",
    "kernelspec": {
      "display_name": "Python 3",
      "name": "python3"
    },
    "language_info": {
      "name": "python"
    }
  },
  "nbformat": 4,
  "nbformat_minor": 0
}